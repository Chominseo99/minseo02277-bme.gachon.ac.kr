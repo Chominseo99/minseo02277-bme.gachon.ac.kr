{
  "nbformat": 4,
  "nbformat_minor": 0,
  "metadata": {
    "colab": {
      "name": "[기계학습]201838248_조민서_linear_Regression.ipynb",
      "provenance": [],
      "collapsed_sections": [],
      "authorship_tag": "ABX9TyMApWxu6CMHVJWsHle8MKBU",
      "include_colab_link": true
    },
    "kernelspec": {
      "name": "python3",
      "display_name": "Python 3"
    }
  },
  "cells": [
    {
      "cell_type": "markdown",
      "metadata": {
        "id": "view-in-github",
        "colab_type": "text"
      },
      "source": [
        "<a href=\"https://colab.research.google.com/github/Chominseo99/minseo02277-bme.gachon.ac.kr/blob/master/20200424/%5B%EA%B8%B0%EA%B3%84%ED%95%99%EC%8A%B5%5D201838248_%EC%A1%B0%EB%AF%BC%EC%84%9C_linear_Regression.ipynb\" target=\"_parent\"><img src=\"https://colab.research.google.com/assets/colab-badge.svg\" alt=\"Open In Colab\"/></a>"
      ]
    },
    {
      "cell_type": "markdown",
      "metadata": {
        "id": "wRTHqDL3dopN",
        "colab_type": "text"
      },
      "source": [
        "\n",
        "*   단순선형회귀 : x의 값에 따라 y값이 어떻게 달라질지 예측하는 단순한 1차 방정식(기울기와 절편만 존재함)  ---> y = a*x + b\n",
        "\n",
        "\n",
        "*   다중선형회귀 : 여러 개의 변수 x를 포함하는 방정식  ---> y = b + m1*x1 + m2*x2 + ...+ mn*xn\n"
      ]
    },
    {
      "cell_type": "markdown",
      "metadata": {
        "id": "VCcVs5WTQ1dC",
        "colab_type": "text"
      },
      "source": [
        "**드라이브에 마운트**"
      ]
    },
    {
      "cell_type": "code",
      "metadata": {
        "id": "M1J6D_f6kIsX",
        "colab_type": "code",
        "colab": {}
      },
      "source": [
        "from google.colab import drive\n",
        "drive.mount('/content/drive')"
      ],
      "execution_count": 0,
      "outputs": []
    },
    {
      "cell_type": "code",
      "metadata": {
        "id": "p96cwt4lkqwr",
        "colab_type": "code",
        "colab": {}
      },
      "source": [
        "!cp \"/content/drive/My Drive/Machine Learning/datasets/test.csv\" test.csv"
      ],
      "execution_count": 0,
      "outputs": []
    },
    {
      "cell_type": "markdown",
      "metadata": {
        "id": "6kDkcBg2MEnK",
        "colab_type": "text"
      },
      "source": [
        "필요한 함수를 import"
      ]
    },
    {
      "cell_type": "code",
      "metadata": {
        "id": "5jC6l0vRmvTw",
        "colab_type": "code",
        "colab": {}
      },
      "source": [
        "import os\n",
        "import matplotlib\n",
        "import matplotlib.pyplot as plt\n",
        "import numpy as np\n",
        "import pandas as pd\n",
        "import sklearn\n",
        "\n",
        "from sklearn.linear_model import LinearRegression\n",
        "from sklearn.model_selection import train_test_split"
      ],
      "execution_count": 0,
      "outputs": []
    },
    {
      "cell_type": "code",
      "metadata": {
        "id": "wSob3rEm1SRh",
        "colab_type": "code",
        "colab": {}
      },
      "source": [
        "#데이터 적재\n",
        "test = pd.read_csv(\"test.csv\")"
      ],
      "execution_count": 0,
      "outputs": []
    },
    {
      "cell_type": "markdown",
      "metadata": {
        "id": "R5n9HOwhVMPO",
        "colab_type": "text"
      },
      "source": [
        "10개의 data 확인"
      ]
    },
    {
      "cell_type": "code",
      "metadata": {
        "id": "8-JsODhzVL5j",
        "colab_type": "code",
        "colab": {}
      },
      "source": [
        "test.head(10)"
      ],
      "execution_count": 0,
      "outputs": []
    },
    {
      "cell_type": "code",
      "metadata": {
        "id": "6zIpdy28-FU0",
        "colab_type": "code",
        "colab": {}
      },
      "source": [
        "#데이터 준비\n",
        "x=test[[\"x_0\", \"x_1\", \"x_2\"]]\n",
        "y=test[[\"y\"]]"
      ],
      "execution_count": 0,
      "outputs": []
    },
    {
      "cell_type": "markdown",
      "metadata": {
        "id": "IVLgfT88cqVd",
        "colab_type": "text"
      },
      "source": [
        "x값 확인"
      ]
    },
    {
      "cell_type": "code",
      "metadata": {
        "id": "HICEDW2Wcp0A",
        "colab_type": "code",
        "colab": {}
      },
      "source": [
        "x"
      ],
      "execution_count": 0,
      "outputs": []
    },
    {
      "cell_type": "markdown",
      "metadata": {
        "id": "ulIe0Yy0cvhj",
        "colab_type": "text"
      },
      "source": [
        "y값 확인"
      ]
    },
    {
      "cell_type": "code",
      "metadata": {
        "id": "0pUxpHMFcxc2",
        "colab_type": "code",
        "colab": {}
      },
      "source": [
        "y"
      ],
      "execution_count": 0,
      "outputs": []
    },
    {
      "cell_type": "markdown",
      "metadata": {
        "id": "w4RSQUTyVl8T",
        "colab_type": "text"
      },
      "source": [
        "data를 8:2로 분리"
      ]
    },
    {
      "cell_type": "code",
      "metadata": {
        "id": "FxPONVcT1jmv",
        "colab_type": "code",
        "colab": {}
      },
      "source": [
        "x_train, x_test, y_train, y_test = train_test_split(x, y, test_size=0.8, random_state=0)"
      ],
      "execution_count": 0,
      "outputs": []
    },
    {
      "cell_type": "markdown",
      "metadata": {
        "id": "r30_BzocV8gK",
        "colab_type": "text"
      },
      "source": [
        "**데이터 시각화**"
      ]
    },
    {
      "cell_type": "code",
      "metadata": {
        "id": "_i403Es4-7Sm",
        "colab_type": "code",
        "colab": {}
      },
      "source": [
        "#x_0, y로 이루어진 데이터 시각화\n",
        "# test = pd.read_csv(\"test.csv\")\n",
        "\n",
        "ax = test.plot(kind='scatter', x=\"x_0\", y=\"y\")\n",
        "ax.set(xlabel=\"x_0\", ylabel=\"y\")\n",
        "plt.show()"
      ],
      "execution_count": 0,
      "outputs": []
    },
    {
      "cell_type": "code",
      "metadata": {
        "id": "_TUhR-wOB_rF",
        "colab_type": "code",
        "colab": {}
      },
      "source": [
        "#x_1, y로 이루어진 데이터 시각화\n",
        "# test = pd.read_csv(\"test.csv\")\n",
        "\n",
        "ax = test.plot(kind='scatter', x=\"x_1\", y=\"y\")\n",
        "ax.set(xlabel=\"x_1\", ylabel=\"y\")\n",
        "plt.show()"
      ],
      "execution_count": 0,
      "outputs": []
    },
    {
      "cell_type": "code",
      "metadata": {
        "id": "jr8h_PK0CAqg",
        "colab_type": "code",
        "colab": {}
      },
      "source": [
        "#x_2, y로 이루어진 데이터 시각화\n",
        "# test = pd.read_csv(\"test.csv\")\n",
        "\n",
        "ax = test.plot(kind='scatter', x=\"x_2\", y=\"y\")\n",
        "ax.set(xlabel=\"x_2\", ylabel=\"y\")\n",
        "plt.show()"
      ],
      "execution_count": 0,
      "outputs": []
    },
    {
      "cell_type": "markdown",
      "metadata": {
        "id": "zRsy8jY_WWhK",
        "colab_type": "text"
      },
      "source": [
        "**Linear Regression**"
      ]
    },
    {
      "cell_type": "code",
      "metadata": {
        "id": "u4kxwvNjCGFW",
        "colab_type": "code",
        "colab": {}
      },
      "source": [
        "#선형 모델 선택\n",
        "model=sklearn.linear_model.LinearRegression()"
      ],
      "execution_count": 0,
      "outputs": []
    },
    {
      "cell_type": "code",
      "metadata": {
        "id": "bgmDwoxaWiHn",
        "colab_type": "code",
        "colab": {}
      },
      "source": [
        "#모델 훈련\n",
        "model.fit(x_train, y_train)"
      ],
      "execution_count": 0,
      "outputs": []
    },
    {
      "cell_type": "code",
      "metadata": {
        "id": "rqnKgL-FHBw9",
        "colab_type": "code",
        "colab": {}
      },
      "source": [
        "#예측\n",
        "y_pred=model.predict(x_test)\n",
        "print(y_pred)"
      ],
      "execution_count": 0,
      "outputs": []
    },
    {
      "cell_type": "code",
      "metadata": {
        "id": "rotyh9BoEPo-",
        "colab_type": "code",
        "colab": {}
      },
      "source": [
        "#정확도 확인\n",
        "print(model.score(x_train, y_train))"
      ],
      "execution_count": 0,
      "outputs": []
    },
    {
      "cell_type": "code",
      "metadata": {
        "id": "TGDA52NfDzbD",
        "colab_type": "code",
        "colab": {}
      },
      "source": [
        "import matplotlib.pyplot as plt\n",
        "\n",
        "plt.scatter(y_test, y_pred, alpha=0.5)\n",
        "plt.xlabel(\"x\")\n",
        "plt.ylabel(\"y\")\n",
        "plt.show()"
      ],
      "execution_count": 0,
      "outputs": []
    },
    {
      "cell_type": "markdown",
      "metadata": {
        "id": "lz1PCXWmXLnp",
        "colab_type": "text"
      },
      "source": [
        "**계수와 바이어스**"
      ]
    },
    {
      "cell_type": "markdown",
      "metadata": {
        "id": "HP6KmMXeYWRb",
        "colab_type": "text"
      },
      "source": [
        "\n",
        "\n",
        "*   .coef -> 기울기, 계수\n",
        "*   .intercept -> 절편, 바이어스\n",
        "\n"
      ]
    },
    {
      "cell_type": "code",
      "metadata": {
        "id": "OENSfSk6DDoU",
        "colab_type": "code",
        "colab": {}
      },
      "source": [
        "#계수 예측\n",
        "print(model.coef_)"
      ],
      "execution_count": 0,
      "outputs": []
    },
    {
      "cell_type": "code",
      "metadata": {
        "id": "DJn_VORuDD0k",
        "colab_type": "code",
        "colab": {}
      },
      "source": [
        "#바이어스 예측\n",
        "print(model.intercept_)"
      ],
      "execution_count": 0,
      "outputs": []
    }
  ]
}